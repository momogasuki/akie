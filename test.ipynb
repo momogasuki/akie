{
 "cells": [
  {
   "cell_type": "code",
   "execution_count": 2,
   "metadata": {},
   "outputs": [],
   "source": [
    "from akie import MetaLearner, setup_seed\n",
    "\n",
    "import torch\n",
    "from torch import nn, optim\n",
    "from torch.nn import functional as F\n",
    "from torch.nn import ModuleList as ML\n",
    "from torch.nn import ParameterList as PL\n",
    "import numpy as np\n",
    "\n",
    "import time, pickle\n",
    "from sklearn.metrics import roc_auc_score\n",
    "\n",
    "def get_data():\n",
    "    i_genre = np.load('/home2/zh/data/ml-1m/i_genre.npy')\n",
    "    i_other = np.load('/home2/zh/data/ml-1m/i_other.npy')\n",
    "    ui = np.load('/home2/zh/data/ml-1m/ui.npy')\n",
    "    x_genre = np.load('/home2/zh/data/ml-1m/x_genre.npy')\n",
    "    x_other = np.load('/home2/zh/data/ml-1m/x_other.npy')\n",
    "    y = np.load('/home2/zh/data/ml-1m/y.npy')\n",
    "    return i_genre, i_other, ui, x_genre, x_other, y\n",
    "\n",
    "def run0(model, data, user, phase, spt_qry_split=None):\n",
    "    i_genre, i_other, ui, x_genre, x_other, y = data\n",
    "    idx = np.where(ui[:,0]==user)[0]\n",
    "    if phase == 'train':\n",
    "        if len(idx) <= 10: return None\n",
    "    onehot_i = torch.tensor(i_other[idx,:-1]).cuda()\n",
    "    onehot_x = torch.tensor(x_other[idx,:-1]).cuda()\n",
    "    multihot_i = torch.tensor(i_genre[idx]).cuda()\n",
    "    multihot_x = torch.tensor(x_genre[idx]).cuda()\n",
    "    multihot_list = [(multihot_i, multihot_x)]\n",
    "    ctns = torch.tensor(x_other[idx,-1:]).cuda()\n",
    "    task_data = (onehot_i, onehot_x, multihot_list, ctns)\n",
    "    label = torch.tensor(y[idx]).cuda().double()\n",
    "    spt_qry_perm = torch.randperm(len(idx))\n",
    "    if phase == 'train':\n",
    "        if spt_qry_split == 'max(1/8, 4)':\n",
    "            sqsplit = max(4, int(len(idx)/8))\n",
    "        else:\n",
    "            raise Exception('Undeifined spt_qry_split')\n",
    "        spt_idx = spt_qry_perm[:sqsplit]\n",
    "        qry_idx = spt_qry_perm[-sqsplit:]\n",
    "        if (1-label[spt_idx]).sum() <= 0: return None\n",
    "        if (1-label[qry_idx]).sum() <= 0: return None\n",
    "    else:\n",
    "        spt_idx = spt_qry_perm[:0]\n",
    "        qry_idx = spt_qry_perm[:]\n",
    "        model.eval()\n",
    "    pred, loss = model(task_data, label, spt_idx, qry_idx, phase=phase)\n",
    "    if phase != 'train':\n",
    "        model.train()\n",
    "    return pred, loss, label[qry_idx]\n",
    "\n",
    "torch.cuda.set_device(5)\n",
    "setup_seed(81192)\n",
    "data = get_data()\n",
    "i_genre, i_other, ui, x_genre, x_other, y = data\n",
    "config = {'num_embeddings': 3529,\n",
    "        'embedding_dim': 16,\n",
    "        'dim': [16*6+1, 64, 1],\n",
    "        'dropout': [0, 0],\n",
    "        'embedding_dim_meta': 32,\n",
    "        'userl2': 32*4+0,\n",
    "        'cluster_d': 128,\n",
    "        'clusternum': [1, 3, 2, 1],\n",
    "        'user_part': ([0,1,2,3], [], []),\n",
    "        'inner_steps': 2,\n",
    "        'batchsize': 256,\n",
    "        'learning_rate': [0.5, 0.5],\n",
    "        'update_lr': [0.01, (0, 0)]}\n",
    "config['spt_qry_split'] = 'max(1/8, 4)'\n",
    "config['batchnum'] = int(75000*32/config['batchsize'])\n",
    "config['eval_every'] = int(config['batchnum']/400)\n",
    "model = MetaLearner(config).cuda().double()\n",
    "user_set = np.array(list(set(ui[:,0])))\n",
    "usernum = len(user_set)\n",
    "perm = np.random.permutation(usernum)\n",
    "train_usernum = int(0.8*usernum)\n",
    "valid_usernum = int(0.9*usernum)\n",
    "optimizer = optim.SGD([{'params': model.net.parameters(), 'lr': config['learning_rate'][0]},\n",
    "                        {'params': list(model.parameters())[len(list(model.net.parameters())):], 'lr': config['learning_rate'][1]}])\n",
    "traucs, vaaucs, trloss, valoss = [], [], [], []\n",
    "labels_chkp, preds_chkp, losses_chkp = [], [], []"
   ]
  },
  {
   "cell_type": "code",
   "execution_count": 29,
   "metadata": {},
   "outputs": [
    {
     "data": {
      "text/plain": [
       "(4832, 5436)"
      ]
     },
     "execution_count": 29,
     "metadata": {},
     "output_type": "execute_result"
    }
   ],
   "source": [
    "import time\n",
    "from tqdm import tqdm\n",
    "train_usernum, valid_usernum"
   ]
  },
  {
   "cell_type": "code",
   "execution_count": 55,
   "metadata": {},
   "outputs": [],
   "source": [
    "def val(num):\n",
    "    model.load_state_dict(torch.load('test.try'))\n",
    "    preds, losses, labels = [], [], []\n",
    "    x = perm[5436:]\n",
    "    np.random.shuffle(x)\n",
    "    t = time.clock()\n",
    "#     with torch.no_grad():\n",
    "    for user in tqdm(user_set[x[:num]]):\n",
    "        pred, loss, label = run0(model, data, user, 'valid')\n",
    "        preds.append(pred)\n",
    "        losses.append(loss)\n",
    "        labels.append(label)\n",
    "    print(time.clock()-t)\n",
    "    valid_auc = roc_auc_score(np.array(torch.cat(labels).detach().cpu()), np.array(torch.cat(preds).detach().cpu()))\n",
    "    valid_loss = torch.stack(losses).mean().item()\n",
    "    print(valid_auc, valid_loss)"
   ]
  },
  {
   "cell_type": "code",
   "execution_count": 57,
   "metadata": {},
   "outputs": [
    {
     "name": "stderr",
     "output_type": "stream",
     "text": [
      "100%|██████████| 604/604 [00:03<00:00, 152.93it/s]"
     ]
    },
    {
     "name": "stdout",
     "output_type": "stream",
     "text": [
      "4.006118999999998\n",
      "0.6081545958477983 0.6698012204261237\n"
     ]
    },
    {
     "name": "stderr",
     "output_type": "stream",
     "text": [
      "\n"
     ]
    }
   ],
   "source": [
    "val(604)"
   ]
  }
 ],
 "metadata": {
  "kernelspec": {
   "display_name": "Python 3",
   "language": "python",
   "name": "python3"
  },
  "language_info": {
   "codemirror_mode": {
    "name": "ipython",
    "version": 3
   },
   "file_extension": ".py",
   "mimetype": "text/x-python",
   "name": "python",
   "nbconvert_exporter": "python",
   "pygments_lexer": "ipython3",
   "version": "3.6.8"
  }
 },
 "nbformat": 4,
 "nbformat_minor": 2
}
