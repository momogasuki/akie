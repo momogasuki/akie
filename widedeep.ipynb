{
 "cells": [
  {
   "cell_type": "code",
   "execution_count": 100,
   "metadata": {},
   "outputs": [
    {
     "name": "stderr",
     "output_type": "stream",
     "text": [
      "  0%|          | 0/267 [00:00<?, ?it/s]"
     ]
    },
    {
     "name": "stdout",
     "output_type": "stream",
     "text": [
      "Training\n"
     ]
    },
    {
     "name": "stderr",
     "output_type": "stream",
     "text": [
      "epoch 1: 100%|██████████| 267/267 [00:07<00:00, 35.65it/s, loss=0.667, metrics={'acc': 0.5861}]\n",
      "valid: 100%|██████████| 67/67 [00:04<00:00, 14.05it/s, loss=0.659, metrics={'acc': 0.5903}]\n",
      "epoch 2: 100%|██████████| 267/267 [00:07<00:00, 33.79it/s, loss=0.655, metrics={'acc': 0.6117}]\n",
      "valid: 100%|██████████| 67/67 [00:04<00:00, 14.14it/s, loss=0.654, metrics={'acc': 0.6126}]\n",
      "epoch 3: 100%|██████████| 267/267 [00:07<00:00, 34.65it/s, loss=0.651, metrics={'acc': 0.6171}]\n",
      "valid: 100%|██████████| 67/67 [00:04<00:00, 13.82it/s, loss=0.653, metrics={'acc': 0.6175}]\n",
      "epoch 4: 100%|██████████| 267/267 [00:07<00:00, 35.49it/s, loss=0.649, metrics={'acc': 0.6196}]\n",
      "valid: 100%|██████████| 67/67 [00:04<00:00, 14.04it/s, loss=0.653, metrics={'acc': 0.6194}]\n",
      "epoch 5: 100%|██████████| 267/267 [00:07<00:00, 35.16it/s, loss=0.648, metrics={'acc': 0.6214}]\n",
      "valid: 100%|██████████| 67/67 [00:04<00:00, 13.84it/s, loss=0.653, metrics={'acc': 0.6212}]\n",
      "predict: 100%|██████████| 58/58 [00:04<00:00, 13.02it/s]\n"
     ]
    },
    {
     "data": {
      "text/plain": [
       "array([1, 1, 0, ..., 0, 1, 1])"
      ]
     },
     "execution_count": 100,
     "metadata": {},
     "output_type": "execute_result"
    }
   ],
   "source": [
    "from pytorch_widedeep.preprocessing import WidePreprocessor, DeepPreprocessor\n",
    "from pytorch_widedeep.models import Wide, DeepDense, WideDeep\n",
    "from pytorch_widedeep.metrics import BinaryAccuracy\n",
    "import torch\n",
    "from numpy import *\n",
    "\n",
    "# these next 3 lines are not directly related to pytorch-widedeep. I assume\n",
    "# you have downloaded the dataset and place it in a dir called data/adult/\n",
    "# df = pd.read_csv('data/adult/adult.csv.zip')\n",
    "# df['income_label'] = (df[\"income\"].apply(lambda x: \">50K\" in x)).astype(int)\n",
    "# df.drop('income', axis=1, inplace=True)\n",
    "\n",
    "# prepare wide, crossed, embedding and continuous columns\n",
    "wide_cols  = [str(x) for x in list(range(22))]\n",
    "#cross_cols = [list(str(y) for y in x) for x in [(0,4,5,11), (2,3,5,6,7,14,20)]]\n",
    "cross_cols = []\n",
    "already_dummies = [str(x) for x in list(range(4,22))]\n",
    "embed_cols = [('0',16), ('1',16), (\"2\",16), ('3',32)]\n",
    "cont_cols  = None\n",
    "target_col = '22'\n",
    "\n",
    "# target\n",
    "target = df[target_col].values\n",
    "\n",
    "# wide\n",
    "preprocess_wide = WidePreprocessor(wide_cols=wide_cols, crossed_cols=cross_cols, already_dummies=already_dummies)\n",
    "# X_wide = preprocess_wide.fit_transform(df)\n",
    "X_wide = X_wide[:,:-1]\n",
    "wide = Wide(wide_dim=X_wide.shape[1], output_dim=1)\n",
    "\n",
    "# deepdense\n",
    "preprocess_deep = DeepPreprocessor(embed_cols=embed_cols, continuous_cols=cont_cols)\n",
    "X_deep = preprocess_deep.fit_transform(df)\n",
    "deepdense = DeepDense(hidden_layers=[64,32],\n",
    "                      deep_column_idx=preprocess_deep.deep_column_idx,\n",
    "                      embed_input=preprocess_deep.embeddings_input,\n",
    "                      continuous_cols=cont_cols)\n",
    "\n",
    "# build, compile, fit and predict\n",
    "model = WideDeep(wide=wide, deepdense=deepdense)\n",
    "optim = torch.optim.Adam(model.parameters())\n",
    "model.compile(method='binary', metrics=[BinaryAccuracy], optimizers=optim)\n",
    "model.fit(X_wide=X_wide, X_deep=X_deep, target=target, n_epochs=5, batch_size=256, val_split=0.2)\n",
    "\n",
    "# X_wide_te = preprocess_wide.fit_transform(df_te)\n",
    "X_deep_te = preprocess_deep.fit_transform(df_te)\n",
    "model.predict(X_wide=X_wide_te[:,:-1], X_deep=X_deep_te)"
   ]
  },
  {
   "cell_type": "code",
   "execution_count": 106,
   "metadata": {},
   "outputs": [
    {
     "name": "stderr",
     "output_type": "stream",
     "text": [
      "predict: 100%|██████████| 58/58 [00:04<00:00, 12.41it/s]\n"
     ]
    },
    {
     "data": {
      "text/plain": [
       "8511"
      ]
     },
     "execution_count": 106,
     "metadata": {},
     "output_type": "execute_result"
    }
   ],
   "source": [
    "pred = model.predict(X_wide=X_wide_te[:,:-1], X_deep=X_deep_te)\n",
    "label = X_wide_te[:,-1]\n",
    "sum(pred==label)"
   ]
  },
  {
   "cell_type": "code",
   "execution_count": 103,
   "metadata": {},
   "outputs": [
    {
     "data": {
      "text/plain": [
       "(14598,)"
      ]
     },
     "execution_count": 103,
     "metadata": {},
     "output_type": "execute_result"
    }
   ],
   "source": [
    "pred.shape"
   ]
  },
  {
   "cell_type": "code",
   "execution_count": 104,
   "metadata": {},
   "outputs": [
    {
     "data": {
      "text/plain": [
       "0.5830250719276613"
      ]
     },
     "execution_count": 104,
     "metadata": {},
     "output_type": "execute_result"
    }
   ],
   "source": [
    "X_wide.shape\n",
    "# u_content[1]\n",
    "8511/14598"
   ]
  },
  {
   "cell_type": "code",
   "execution_count": 25,
   "metadata": {},
   "outputs": [],
   "source": [
    "from numpy import *\n",
    "import pandas as pd\n",
    "\n",
    "def data():\n",
    "    path = \"/home2/zh/data/ml-100k/u.data\"\n",
    "    with open(path, 'r', encoding='ISO-8859-1') as f:\n",
    "        lines = f.read().split('\\n')\n",
    "    interaction = array([[int(x) for x in line.split('\\t')] for line in lines[:-1]])\n",
    "    #print(interaction[:3])\n",
    "    interaction[:,:2] -= 1\n",
    "    #print(interaction[:3])\n",
    "    interaction[interaction[:,2]<=3, 2] = 0\n",
    "    interaction[interaction[:,2]>3, 2] = 1\n",
    "    #print(interaction[:3])\n",
    "\n",
    "    def g(line):\n",
    "        if line[2] == '':\n",
    "            return [int(line[0])] + [0]*8 + line[-18:]\n",
    "        return [int(line[0])] + list(eye(8)[int(line[2][-4:-1])-192]) + line[-18:]\n",
    "\n",
    "    path = \"/home2/zh/data/ml-100k/u.item\"\n",
    "    with open(path, 'r', encoding='ISO-8859-1') as f:\n",
    "        lines = f.read().split('\\n')\n",
    "    #set([line.split('|')[2][-4:] for line in lines[:-1]])\n",
    "    # line = lines[23].split('|')\n",
    "    # array([int(line[0])] + list(eye(8)[int(line[2][-4:-1])-192]) + line[-18:]).astype(int)\n",
    "    i_content = array([g(line.split('|')) for line in lines[:-1]]).astype(float)[:,1:]\n",
    "\n",
    "    def h(line):\n",
    "        #bl = [20, 30, 40, 50]\n",
    "        a = [0]*28\n",
    "        b = int(line[1])\n",
    "        if b <= 20: a[0] = 1\n",
    "        elif b <= 30: a[1] = 1\n",
    "        elif b <= 40: a[2] = 1\n",
    "        elif b <= 50: a[3] = 1\n",
    "        else: a[4] = 1\n",
    "        if line[2] == 'F': a[5] = 1\n",
    "        else: a[6] = 1\n",
    "        a[dict(zip(['administrator',\n",
    "            'artist',\n",
    "            'doctor',\n",
    "            'educator',\n",
    "            'engineer',\n",
    "            'entertainment',\n",
    "            'executive',\n",
    "            'healthcare',\n",
    "            'homemaker',\n",
    "            'lawyer',\n",
    "            'librarian',\n",
    "            'marketing',\n",
    "            'none',\n",
    "            'other',\n",
    "            'programmer',\n",
    "            'retired',\n",
    "            'salesman',\n",
    "            'scientist',\n",
    "            'student',\n",
    "            'technician',\n",
    "            'writer'], range(7,28)))[line[3]]] = 1\n",
    "        return a\n",
    "\n",
    "    path = \"/home2/zh/data/ml-100k/u.user\"\n",
    "    with open(path, 'r', encoding='ISO-8859-1') as f:\n",
    "        lines = f.read().split('\\n')\n",
    "    #set([line.split('|')[3] for line in lines[:-1]])\n",
    "    u_content = array([h(line.split('|')) for line in lines[:-1]])\n",
    "    #sum(i_content[:,0]==1)\n",
    "    \n",
    "    return interaction, u_content, i_content"
   ]
  },
  {
   "cell_type": "code",
   "execution_count": 98,
   "metadata": {},
   "outputs": [],
   "source": [
    "interaction, u_content, i_content = data()\n",
    "perm = random.permutation(943)\n",
    "df, df_te = [], []\n",
    "X_wide, X_wide_te = [], []\n",
    "rev_u = {'age': (['20-', '20s', '30s', '40s', '50+'], 0, 5),\n",
    "         'gender': (['F', 'M'], 5, 7),\n",
    "         'occupation': (['administrator', 'artist', 'doctor', 'educator', 'engineer',\n",
    "                        'entertainment', 'executive', 'healthcare', 'homemaker', 'lawyer',\n",
    "                        'librarian', 'marketing', 'none', 'other', 'programmer', 'retired',\n",
    "                        'salesman', 'scientist', 'student', 'technician', 'writer'], 7, 28)}\n",
    "rev_i = {'decade': ([str(x)+'0s' for x in range(192,200)], 0, 8)}\n",
    "for u, i, r, t in interaction:\n",
    "    a = [rev_u[attname][0][argmax(u_content[u][rev_u[attname][1]:rev_u[attname][2]])] for attname in rev_u.keys()]\n",
    "    b = [rev_i[attname][0][argmax(i_content[i][rev_i[attname][1]:rev_i[attname][2]])] for attname in rev_i.keys()]\n",
    "    c = hstack((u_content[u], i_content[i], r))\n",
    "#     print(c.shape)\n",
    "#     break\n",
    "    if u in perm[:800]:\n",
    "        df.append(a+b+list(i_content[i][8:])+[r])\n",
    "        X_wide.append(c)\n",
    "    else:\n",
    "        df_te.append(a+b+list(i_content[i][8:])+[r])\n",
    "        X_wide_te.append(c)\n",
    "df = pd.DataFrame(df, columns=[str(x) for x in range(23)])#, columns=['age', 'gender', 'occupation', 'decade'])\n",
    "df_te = pd.DataFrame(df_te, columns=[str(x) for x in range(23)])\n",
    "X_wide = vstack(X_wide)\n",
    "X_wide_te = vstack(X_wide_te)"
   ]
  }
 ],
 "metadata": {
  "kernelspec": {
   "display_name": "Python 3",
   "language": "python",
   "name": "python3"
  },
  "language_info": {
   "codemirror_mode": {
    "name": "ipython",
    "version": 3
   },
   "file_extension": ".py",
   "mimetype": "text/x-python",
   "name": "python",
   "nbconvert_exporter": "python",
   "pygments_lexer": "ipython3",
   "version": "3.6.8"
  }
 },
 "nbformat": 4,
 "nbformat_minor": 2
}
